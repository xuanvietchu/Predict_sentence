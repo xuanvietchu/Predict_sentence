{
 "cells": [
  {
   "cell_type": "code",
   "execution_count": 36,
   "metadata": {},
   "outputs": [],
   "source": [
    "import json\n",
    "import os\n",
    "data = []\n",
    "\n",
    "for folder in os.listdir('../data'):\n",
    "    with open(f'../data/{folder}/content.json') as f:\n",
    "        messages = json.load(f)\n",
    "    for message in messages:\n",
    "        data.append(message['message'])"
   ]
  },
  {
   "cell_type": "code",
   "execution_count": 37,
   "metadata": {},
   "outputs": [],
   "source": [
    "for i, dat in enumerate(data): \n",
    "    index_sentence = [0]\n",
    "    sentences = []\n",
    "    for j, char in enumerate(dat):\n",
    "        try:\n",
    "            if char == '.' and dat[j+1] == ' ' and dat[j-1] == ' ':\n",
    "                index_sentence.append(j)\n",
    "        except IndexError:\n",
    "            if char == '.' and dat[j-1] == ' ':\n",
    "                index_sentence.append(j)\n",
    "    \n",
    "    index_sentence.reverse()\n",
    "    for index in index_sentence:\n",
    "        if dat[index+1:] == '':\n",
    "            continue\n",
    "        \n",
    "        sentences.append(dat[index+1:])\n",
    "        dat = dat[:index+1]\n",
    "    \n",
    "    sentences.reverse()\n",
    "    data[i] = sentences"
   ]
  },
  {
   "cell_type": "code",
   "execution_count": 106,
   "metadata": {},
   "outputs": [
    {
     "data": {
      "text/plain": [
       "['Công_an TP. HCM vừa triển_khai cao_điểm phòng_chống tội_phạm , đảm_bảo an_ninh trật_tự , ứng_phó với tình_hình dịch_bệnh Covid-19 .',\n",
       " ' Đợt cao_điểm này sẽ kéo_dài từ nay đến hết tháng 4 .',\n",
       " ' Cảnh_sát kiểm_tra người đi đường trong đợt cao_điểm .',\n",
       " ' Ảnh : An_Huy .',\n",
       " ' Công_an TP. HCM đánh_giá thời_gian gần đây , tình_hình dịch_bệnh diễn_biến phức_tạp .',\n",
       " ' Trên địa_bàn thành_phố xuất_hiện nhiều tin_đồn thất_thiệt , xuyên_tạc về tình_hình và công_tác phòng , chống dịch_bệnh gây hoang_mang trong cộng đồng.Bên cạnh đó , lợi_dụng người_dân ít ra đường , phố_xá vắng_vẻ , nhiều loại tội_phạm hoạt_động mạnh , đặc_biệt tội_phạm liên_quan trộm , cướp , cướp giật.Từ tình_hình trên , Công_an TP. HCM đã chỉ_đạo lực_lượng cảnh_sát hình_sự đặc_nhiệm tăng_cường tuần_tra trên các cung đường để xử_lý tình_hình trộm_cắp , cướp_giật .',\n",
       " ' Đặc_biệt chú_ý những người có biểu_hiện nghi_vấn , không rõ mục_đích di_chuyển trong thời_gian hạn_chế đi_lại .',\n",
       " ' Công_an TP. HCM phối_hợp với nhiều lực_lượng mở chốt phòng , chống dịch tại các cửa_ngõ thành_phố .',\n",
       " ' Ảnh : Chí_Hùng .',\n",
       " ' Tổ công_tác 363 cũng được huy_động tối_đa quân_số xử_lý tội_phạm đường_phố , các trường_hợp không đeo khẩu_trang , những nơi không tạm dừng hoạt_động vui_chơi giải_trí , quy_định về vận_tải hành_khách , tụ_tập đông người , các hành_vi có_thể làm lây_lan dịch Covid-19 cho cộng đồng.Ngoài ra , Công_an TP. HCM cũng tăng_cường CSGT tuần_tra địa_bàn , xử nghiêm các lỗi là nguyên_nhân dẫn đến tai_nạn giao_thông như : Vi_phạm nồng_độ cồn , chất kích_thích , lưu_thông đường cấm , giờ cấm , chở hàng quá_khổ , quá trọng_tải cho phép.Dịp này , lực_lượng chức_năng cũng tăng_cường kiểm_soát , phát_hiện các trường_hợp buôn_lậu , sản_xuất , vận_chuyển , buôn_bán hàng cấm , hàng giả ... và xử nghiêm các tổ_chức , cá_nhân kinh_doanh lợi_dụng tình_hình dịch Covid-19 để sản_xuất hàng giả , hàng kém chất_lượng , không đảm_bảo vệ_sinh an_toàn thực phẩm.Cảnh sát hình_sự cảnh_báo tình_trạng cướp manh_động giữa dịch Covid-19 \" Hiện các cung đường đều rất vắng_vẻ , hoạt_động tội_phạm hình_sự dễ xảy ra nên người_dân cần hạn_chế ra khỏi nhà , đặc_biệt vào buổi tối \" , thượng_tá Nguyễn_Đăng_Nam khuyến_cáo .']"
      ]
     },
     "execution_count": 106,
     "metadata": {},
     "output_type": "execute_result"
    }
   ],
   "source": [
    "data[1]"
   ]
  },
  {
   "cell_type": "code",
   "execution_count": 168,
   "metadata": {},
   "outputs": [],
   "source": [
    "import numpy as np\n",
    "np.random.seed(37)\n",
    "official_data = []\n",
    "for i, dat in enumerate(data):\n",
    "    sentence_count = len(dat)\n",
    "    THRESHOLDS = [4,3,2]\n",
    "    for THRESHOLD in THRESHOLDS:\n",
    "        if (sentence_count > THRESHOLD):\n",
    "            dice = np.random.randint(0, sentence_count-THRESHOLD)\n",
    "            sequence_length = np.random.randint(1,THRESHOLD+1)\n",
    "            official_data.append({\n",
    "                'Source': \" \".join([_ for _ in dat[dice:dice+ sequence_length]]),\n",
    "                'Target': dat[dice + sequence_length]\n",
    "            })\n",
    "        break"
   ]
  },
  {
   "cell_type": "code",
   "execution_count": 176,
   "metadata": {},
   "outputs": [],
   "source": [
    "from sklearn.model_selection import train_test_split\n",
    "full_train, full_test = train_test_split(official_data, test_size=0.1, random_state=37)"
   ]
  },
  {
   "cell_type": "code",
   "execution_count": 179,
   "metadata": {},
   "outputs": [],
   "source": [
    "import json\n",
    "\n",
    "with open('../data/full_train.json', 'w') as f:\n",
    "    json.dump(full_train, f)\n",
    "with open('../data/full_test.json', 'w') as f:\n",
    "    json.dump(full_test, f)"
   ]
  },
  {
   "cell_type": "code",
   "execution_count": 1,
   "metadata": {},
   "outputs": [],
   "source": [
    "import json\n",
    "\n",
    "with open('../data/full_train.json', 'r') as f:\n",
    "    full_train = json.load(f)\n",
    "with open('../data/full_test.json', 'r') as f:\n",
    "    full_test = json.load(f)"
   ]
  }
 ],
 "metadata": {
  "kernelspec": {
   "display_name": "predict",
   "language": "python",
   "name": "predict"
  },
  "language_info": {
   "codemirror_mode": {
    "name": "ipython",
    "version": 3
   },
   "file_extension": ".py",
   "mimetype": "text/x-python",
   "name": "python",
   "nbconvert_exporter": "python",
   "pygments_lexer": "ipython3",
   "version": "3.8.10"
  },
  "orig_nbformat": 4,
  "vscode": {
   "interpreter": {
    "hash": "e55666fbbf217aa3df372b978577f47b6009e2f78e2ec76a584f49cd54a1e62c"
   }
  }
 },
 "nbformat": 4,
 "nbformat_minor": 2
}
